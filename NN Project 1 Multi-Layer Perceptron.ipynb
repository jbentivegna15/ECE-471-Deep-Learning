{
 "cells": [
  {
   "cell_type": "markdown",
   "metadata": {},
   "source": [
    "## MLP Classifier\n",
    "### Joseph Bentivegna\n",
    "\n",
    "This project implements a MLP classifier in Python using Tensorflow. The project has 3 hidden layers and uses an eLu activation function to introduce non-linearity. Data generation was done by uniformingly sampling thetas, calculating x and y values, and then applying a class value to each point. The MLP graph was created by first initializing 3 sets of weights and biases and then constructing a network of alternating hidden and activation layers. ReLu was used first in the activation layers but after testing, eLu was found to work better. To train the model, 100,000 iterations of data were passed to the optimizer in order to minimize the loss function. We chose to use sigmoid cross entropy for our loss function in order to conditionally calculate the loss based on what the actual class is. L2 Penalty was also implemented to penalize very large weights. A contour map was used in order to plot the decision boundry of the network and show accuracy. "
   ]
  },
  {
   "cell_type": "code",
   "execution_count": 1,
   "metadata": {
    "scrolled": true
   },
   "outputs": [],
   "source": [
    "# imports\n",
    "import tensorflow as tf\n",
    "import matplotlib.pyplot as plt\n",
    "import numpy as np\n",
    "from tqdm import tqdm"
   ]
  },
  {
   "cell_type": "code",
   "execution_count": 2,
   "metadata": {},
   "outputs": [],
   "source": [
    "# define batch size\n",
    "BATCH_SIZE = 100\n",
    "NUM_BATCHES = 100000\n",
    "LAMBDA = .01"
   ]
  },
  {
   "cell_type": "code",
   "execution_count": 3,
   "metadata": {},
   "outputs": [],
   "source": [
    "# initialize Data class\n",
    "class Data(object):\n",
    "    def __init__(self):\n",
    "        num_samp = 200       # NOTE: this is per-class\n",
    "        sigma = .5\n",
    "        np.random.seed(12345)\n",
    "\n",
    "        self.index = np.arange(2*num_samp)\n",
    "        self.theta = np.random.uniform(np.pi/3, 4*np.pi, 2*num_samp)\n",
    "        self.r1 = 2*self.theta[:200] + np.random.normal(0,sigma,num_samp)\n",
    "        self.r2 = -2*self.theta[200:] + np.random.normal(0,sigma,num_samp)\n",
    "        self.r = np.concatenate((self.r1,self.r2), axis=0)\n",
    "        \n",
    "        # primary data vectors are 'points' (containing x,y pairs) and 'choice' (the classification)\n",
    "        self.points = np.transpose(np.vstack((self.r*np.cos(self.theta), self.r*np.sin(self.theta))))\n",
    "        self.choice = np.concatenate((np.zeros(num_samp), np.ones(num_samp)), axis=0)\n",
    "        \n",
    "    def get_batch(self):\n",
    "        choices = np.random.choice(self.index, size=BATCH_SIZE)\n",
    "    \n",
    "        return self.points[choices,:], self.choice[choices]"
   ]
  },
  {
   "cell_type": "code",
   "execution_count": 4,
   "metadata": {},
   "outputs": [],
   "source": [
    "def f(points):\n",
    "    # length of each hidden layer\n",
    "    leng1, leng2 = 50, 25\n",
    "    \n",
    "    # initialize weights and biases\n",
    "    w1 = tf.get_variable('w1', [2,leng1], tf.float32, tf.random_normal_initializer())\n",
    "    b1 = tf.get_variable('b1', [1,leng1], tf.float32, tf.zeros_initializer())\n",
    "    w2 = tf.get_variable('w2', [leng1,leng2], tf.float32, tf.random_normal_initializer())\n",
    "    b2 = tf.get_variable('b2', [1,leng2], tf.float32, tf.zeros_initializer())\n",
    "    w3 = tf.get_variable('w3', [leng2,1], tf.float32, tf.random_normal_initializer())\n",
    "    b3 = tf.get_variable('b3', [1,1], tf.float32, tf.zeros_initializer())\n",
    "     \n",
    "    # construct network\n",
    "    lev1 = tf.matmul(points, w1) + b1\n",
    "    activ1 = tf.nn.elu(lev1)\n",
    "    lev2 = tf.matmul(activ1, w2) + b2\n",
    "    activ2 = tf.nn.elu(lev2)\n",
    "    lev3 = tf.matmul(activ2, w3) + b3\n",
    "    \n",
    "    return tf.squeeze(lev3)"
   ]
  },
  {
   "cell_type": "code",
   "execution_count": 5,
   "metadata": {},
   "outputs": [
    {
     "name": "stderr",
     "output_type": "stream",
     "text": [
      "100%|██████████████████████████████████████████████████████████████████████████████████████████████████████████| 100000/100000 [03:04<00:00, 542.48it/s]\n"
     ]
    }
   ],
   "source": [
    "# initialize placeholders for x, y, class batches\n",
    "points = tf.placeholder(tf.float32, [None,2])\n",
    "choice = tf.placeholder(tf.int32, [None])\n",
    "y_hat = f(points)\n",
    "\n",
    "# define loss function and L2 penalty\n",
    "loss = tf.losses.sigmoid_cross_entropy(choice, y_hat) + (LAMBDA*tf.reduce_sum([tf.nn.l2_loss(v) for v in tf.trainable_variables()]))\n",
    "\n",
    "# gradient descent to optimize our parameters by minimizing our loss function\n",
    "optim = tf.train.GradientDescentOptimizer(learning_rate=0.01).minimize(loss)\n",
    "init = tf.global_variables_initializer()\n",
    "\n",
    "# initialize session\n",
    "sess = tf.Session()\n",
    "sess.run(init)\n",
    "\n",
    "data = Data()\n",
    "\n",
    "# loop through batches and run gradient descent to tune our parameters\n",
    "for _ in tqdm(range(0, NUM_BATCHES)):\n",
    "    points_val, choice_val = data.get_batch()\n",
    "    loss_np, _ = sess.run([loss, optim], feed_dict={points: points_val, choice: choice_val})"
   ]
  },
  {
   "cell_type": "code",
   "execution_count": 6,
   "metadata": {},
   "outputs": [
    {
     "name": "stdout",
     "output_type": "stream",
     "text": [
      "[1. 1. 0. 1. 1. 1. 1. 0. 0. 0. 0. 0. 0. 1. 1. 1. 1. 1. 1. 1. 1. 1. 0. 0.\n",
      " 0. 0. 0. 0. 1. 0. 1. 0. 1. 0. 1. 1. 0. 0. 1. 0. 1. 1. 1. 0. 1. 0. 0. 0.\n",
      " 1. 1. 1. 0. 1. 0. 0. 1. 1. 1. 1. 0. 0. 1. 0. 0. 1. 1. 0. 1. 1. 1. 0. 1.\n",
      " 0. 1. 1. 1. 0. 0. 0. 1. 1. 1. 0. 0. 1. 0. 0. 0. 1. 0. 1. 1. 0. 0. 0. 0.\n",
      " 0. 1. 1. 1.] \n",
      " [0.84206206 0.8165227  0.23439063 0.7467499  0.9733515  0.9258284\n",
      " 0.7788054  0.16134953 0.07171033 0.13123138 0.04228875 0.12895894\n",
      " 0.01384704 0.89600646 0.80369735 0.9638978  0.93892884 0.8475479\n",
      " 0.9367883  0.86734045 0.9942287  0.86734045 0.03917824 0.1413848\n",
      " 0.16481993 0.1912125  0.16165204 0.08922885 0.8059967  0.03930936\n",
      " 0.8819354  0.01180601 0.96765465 0.02107515 0.9927214  0.9674375\n",
      " 0.01493215 0.12635021 0.96838903 0.01180601 0.7993205  0.9209912\n",
      " 0.9606553  0.01493215 0.95788425 0.12156487 0.13895467 0.16855328\n",
      " 0.9756614  0.9224156  0.95803684 0.13389115 0.79552317 0.1162754\n",
      " 0.06443922 0.96502274 0.9638978  0.8986774  0.9625634  0.03165499\n",
      " 0.03640195 0.8376081  0.10533557 0.16134953 0.9450848  0.8877626\n",
      " 0.08686803 0.89762807 0.9942287  0.97581506 0.08686803 0.9249567\n",
      " 0.04423246 0.85405815 0.9209911  0.8966419  0.0451854  0.1796015\n",
      " 0.03396513 0.8104618  0.8109805  0.9444729  0.1162754  0.0751769\n",
      " 0.9828377  0.1643417  0.0244677  0.12797998 0.85405815 0.20605351\n",
      " 0.9723546  0.8178398  0.12783295 0.03396513 0.36258638 0.06211577\n",
      " 0.04423246 0.9421527  0.9643195  0.8744605 ] \n",
      " [1. 1. 0. 1. 1. 1. 1. 0. 0. 0. 0. 0. 0. 1. 1. 1. 1. 1. 1. 1. 1. 1. 0. 0.\n",
      " 0. 0. 0. 0. 1. 0. 1. 0. 1. 0. 1. 1. 0. 0. 1. 0. 1. 1. 1. 0. 1. 0. 0. 0.\n",
      " 1. 1. 1. 0. 1. 0. 0. 1. 1. 1. 1. 0. 0. 1. 0. 0. 1. 1. 0. 1. 1. 1. 0. 1.\n",
      " 0. 1. 1. 1. 0. 0. 0. 1. 1. 1. 0. 0. 1. 0. 0. 0. 1. 0. 1. 1. 0. 0. 0. 0.\n",
      " 0. 1. 1. 1.] \n",
      "\n",
      "[0. 0. 0. 0. 0. 0. 0. 0. 0. 0. 0. 0. 0. 0. 0. 0. 0. 0. 0. 0. 0. 0. 0. 0.\n",
      " 0. 0. 0. 0. 0. 0. 0. 0. 0. 0. 0. 0. 0. 0. 0. 0. 0. 0. 0. 0. 0. 0. 0. 0.\n",
      " 0. 0. 0. 0. 0. 0. 0. 0. 0. 0. 0. 0. 0. 0. 0. 0. 0. 0. 0. 0. 0. 0. 0. 0.\n",
      " 0. 0. 0. 0. 0. 0. 0. 0. 0. 0. 0. 0. 0. 0. 0. 0. 0. 0. 0. 0. 0. 0. 0. 0.\n",
      " 0. 0. 0. 0.]\n",
      "0.0\n"
     ]
    }
   ],
   "source": [
    "# testing case: print out true classes and predicted classes\n",
    "points_val, choice_val = data.get_batch()\n",
    "outs = sess.run(y_hat, feed_dict={points: points_val})\n",
    "pick = sess.run(tf.sigmoid(outs))\n",
    "classify = np.round(pick)\n",
    "print (choice_val, \"\\n\", pick, \"\\n\", classify, \"\\n\")\n",
    "print (choice_val- classify)\n",
    "print (sum(abs(choice_val-classify)))"
   ]
  },
  {
   "cell_type": "code",
   "execution_count": 7,
   "metadata": {},
   "outputs": [],
   "source": [
    "# setup plotting data\n",
    "x = y = np.linspace(-25,25,300)\n",
    "xx, yy = np.meshgrid(x,y)\n",
    "allp = np.array(list(zip(xx.flatten(), yy.flatten())))\n",
    "\n",
    "outs = sess.run(y_hat, feed_dict={points: allp})\n",
    "pick = sess.run(tf.sigmoid(outs))"
   ]
  },
  {
   "cell_type": "code",
   "execution_count": 11,
   "metadata": {},
   "outputs": [
    {
     "data": {
      "image/png": "[encoded data removed]",
      "text/plain": [
       "<Figure size 576x576 with 1 Axes>"
      ]
     },
     "metadata": {
      "needs_background": "light"
     },
     "output_type": "display_data"
    }
   ],
   "source": [
    "# plot\n",
    "fig, axarr = plt.subplots(nrows=1, ncols=1, figsize=[8,8])\n",
    "plt.contourf(xx, yy, pick.reshape(xx.shape), [0,.5,1])\n",
    "plt.scatter(data.points[:200,0], data.points[:200,1])\n",
    "plt.scatter(data.points[200:,0], data.points[200:,1])\n",
    "plt.show()"
   ]
  },
  {
   "cell_type": "code",
   "execution_count": null,
   "metadata": {},
   "outputs": [],
   "source": []
  }
 ],
 "metadata": {
  "kernelspec": {
   "display_name": "Python 3",
   "language": "python",
   "name": "python3"
  },
  "language_info": {
   "codemirror_mode": {
    "name": "ipython",
    "version": 3
   },
   "file_extension": ".py",
   "mimetype": "text/x-python",
   "name": "python",
   "nbconvert_exporter": "python",
   "pygments_lexer": "ipython3",
   "version": "3.6.6"
  }
 },
 "nbformat": 4,
 "nbformat_minor": 2
}
